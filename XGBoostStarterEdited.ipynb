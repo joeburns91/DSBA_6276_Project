{
 "cells": [
  {
   "cell_type": "markdown",
   "id": "a9508415",
   "metadata": {
    "papermill": {
     "duration": 0.009396,
     "end_time": "2022-12-01T03:32:55.067546",
     "exception": false,
     "start_time": "2022-12-01T03:32:55.058150",
     "status": "completed"
    },
    "tags": []
   },
   "source": [
    "# XGBoost Starter - LB 0.793\n",
    "In this notebook we build and train an XGBoost model using @raddar Kaggle dataset from [here][1] with discussion [here][2]. Then we engineer features suggested by @huseyincot in his notebooks [here][3] and [here][4]. This XGB model achieves CV 0.792 LB 0.793! When training with XGB, we use a special XGB dataloader called `DeviceQuantileDMatrix` which uses a small GPU memory footprint. This allows us to engineer more additional columns and train with more rows of data. Our feature engineering is performed using [RAPIDS][5] on the GPU to create new features quickly.\n",
    "\n",
    "[1]: https://www.kaggle.com/datasets/raddar/amex-data-integer-dtypes-parquet-format\n",
    "[2]: https://www.kaggle.com/competitions/amex-default-prediction/discussion/328514\n",
    "[3]: https://www.kaggle.com/code/huseyincot/amex-catboost-0-793\n",
    "[4]: https://www.kaggle.com/code/huseyincot/amex-agg-data-how-it-created\n",
    "[5]: https://rapids.ai/"
   ]
  },
  {
   "cell_type": "markdown",
   "id": "2c27fb3f",
   "metadata": {
    "papermill": {
     "duration": 0.007806,
     "end_time": "2022-12-01T03:32:55.083528",
     "exception": false,
     "start_time": "2022-12-01T03:32:55.075722",
     "status": "completed"
    },
    "tags": []
   },
   "source": [
    "# Load Libraries"
   ]
  },
  {
   "cell_type": "code",
   "execution_count": 1,
   "id": "a7227e00",
   "metadata": {
    "execution": {
     "iopub.execute_input": "2022-12-01T03:32:55.102106Z",
     "iopub.status.busy": "2022-12-01T03:32:55.101344Z",
     "iopub.status.idle": "2022-12-01T03:32:59.016009Z",
     "shell.execute_reply": "2022-12-01T03:32:59.013391Z"
    },
    "papermill": {
     "duration": 3.926481,
     "end_time": "2022-12-01T03:32:59.018154",
     "exception": false,
     "start_time": "2022-12-01T03:32:55.091673",
     "status": "completed"
    },
    "tags": []
   },
   "outputs": [
    {
     "name": "stdout",
     "output_type": "stream",
     "text": [
      "RAPIDS version 21.10.01\n"
     ]
    }
   ],
   "source": [
    "# LOAD LIBRARIES\n",
    "import pandas as pd, numpy as np # CPU libraries\n",
    "import cupy, cudf # GPU libraries\n",
    "import matplotlib.pyplot as plt, gc, os\n",
    "\n",
    "print('RAPIDS version',cudf.__version__)"
   ]
  },
  {
   "cell_type": "code",
   "execution_count": 2,
   "id": "77992cf6",
   "metadata": {
    "execution": {
     "iopub.execute_input": "2022-12-01T03:32:59.039620Z",
     "iopub.status.busy": "2022-12-01T03:32:59.039283Z",
     "iopub.status.idle": "2022-12-01T03:32:59.047282Z",
     "shell.execute_reply": "2022-12-01T03:32:59.046382Z"
    },
    "papermill": {
     "duration": 0.021159,
     "end_time": "2022-12-01T03:32:59.049588",
     "exception": false,
     "start_time": "2022-12-01T03:32:59.028429",
     "status": "completed"
    },
    "tags": []
   },
   "outputs": [
    {
     "data": {
      "text/plain": [
       "\"\\n# cannot load data\\ntrain_amex_default = pd.read_csv('../input/amex-default-prediction/train_data.csv')\\nprint(train_amex_default.shape)\\ndel train_amex_default\\n\""
      ]
     },
     "execution_count": 2,
     "metadata": {},
     "output_type": "execute_result"
    }
   ],
   "source": [
    "'''\n",
    "# cannot load data\n",
    "train_amex_default = pd.read_csv('../input/amex-default-prediction/train_data.csv')\n",
    "print(train_amex_default.shape)\n",
    "del train_amex_default\n",
    "'''"
   ]
  },
  {
   "cell_type": "code",
   "execution_count": 3,
   "id": "e1a49f30",
   "metadata": {
    "execution": {
     "iopub.execute_input": "2022-12-01T03:32:59.067355Z",
     "iopub.status.busy": "2022-12-01T03:32:59.066947Z",
     "iopub.status.idle": "2022-12-01T03:32:59.071881Z",
     "shell.execute_reply": "2022-12-01T03:32:59.071154Z"
    },
    "papermill": {
     "duration": 0.015879,
     "end_time": "2022-12-01T03:32:59.073623",
     "exception": false,
     "start_time": "2022-12-01T03:32:59.057744",
     "status": "completed"
    },
    "tags": []
   },
   "outputs": [
    {
     "data": {
      "text/plain": [
       "\"\\ntrain_amex_feather = pd.read_feather('../input/amexfeather/train_data.ftr')\\nprint(train_amex_feather.shape)\\ndel train_amex_feather\\n\""
      ]
     },
     "execution_count": 3,
     "metadata": {},
     "output_type": "execute_result"
    }
   ],
   "source": [
    "'''\n",
    "train_amex_feather = pd.read_feather('../input/amexfeather/train_data.ftr')\n",
    "print(train_amex_feather.shape)\n",
    "del train_amex_feather\n",
    "'''"
   ]
  },
  {
   "cell_type": "code",
   "execution_count": 4,
   "id": "6ae68154",
   "metadata": {
    "execution": {
     "iopub.execute_input": "2022-12-01T03:32:59.091971Z",
     "iopub.status.busy": "2022-12-01T03:32:59.091352Z",
     "iopub.status.idle": "2022-12-01T03:32:59.095525Z",
     "shell.execute_reply": "2022-12-01T03:32:59.094697Z"
    },
    "papermill": {
     "duration": 0.014928,
     "end_time": "2022-12-01T03:32:59.097245",
     "exception": false,
     "start_time": "2022-12-01T03:32:59.082317",
     "status": "completed"
    },
    "tags": []
   },
   "outputs": [],
   "source": [
    "# VERSION NAME FOR SAVED MODEL FILES\n",
    "VER = 1\n",
    "\n",
    "# TRAIN RANDOM SEED\n",
    "SEED = 21\n",
    "\n",
    "# FILL NAN VALUE\n",
    "NAN_VALUE = -127 # will fit in int8\n",
    "\n",
    "# FOLDS PER MODEL\n",
    "FOLDS = 2"
   ]
  },
  {
   "cell_type": "markdown",
   "id": "59543664",
   "metadata": {
    "papermill": {
     "duration": 0.008108,
     "end_time": "2022-12-01T03:32:59.113626",
     "exception": false,
     "start_time": "2022-12-01T03:32:59.105518",
     "status": "completed"
    },
    "tags": []
   },
   "source": [
    "# Process and Feature Engineer Train Data\n",
    "We will load @raddar Kaggle dataset from [here][1] with discussion [here][2]. Then we will engineer features suggested by @huseyincot in his notebooks [here][3] and [here][4]. We will use [RAPIDS][5] and the GPU to create new features quickly.\n",
    "\n",
    "[1]: https://www.kaggle.com/datasets/raddar/amex-data-integer-dtypes-parquet-format\n",
    "[2]: https://www.kaggle.com/competitions/amex-default-prediction/discussion/328514\n",
    "[3]: https://www.kaggle.com/code/huseyincot/amex-catboost-0-793\n",
    "[4]: https://www.kaggle.com/code/huseyincot/amex-agg-data-how-it-created\n",
    "[5]: https://rapids.ai/"
   ]
  },
  {
   "cell_type": "code",
   "execution_count": 5,
   "id": "d2a287a0",
   "metadata": {
    "execution": {
     "iopub.execute_input": "2022-12-01T03:32:59.131321Z",
     "iopub.status.busy": "2022-12-01T03:32:59.130851Z",
     "iopub.status.idle": "2022-12-01T03:33:21.800849Z",
     "shell.execute_reply": "2022-12-01T03:33:21.799737Z"
    },
    "papermill": {
     "duration": 22.681303,
     "end_time": "2022-12-01T03:33:21.803130",
     "exception": false,
     "start_time": "2022-12-01T03:32:59.121827",
     "status": "completed"
    },
    "tags": []
   },
   "outputs": [
    {
     "name": "stdout",
     "output_type": "stream",
     "text": [
      "Reading train data...\n",
      "shape of data: (5531451, 190)\n"
     ]
    }
   ],
   "source": [
    "def read_file(path = '', usecols = None):\n",
    "    # LOAD DATAFRAME\n",
    "    if usecols is not None: df = cudf.read_parquet(path, columns=usecols)\n",
    "    else: df = cudf.read_parquet(path)\n",
    "    # REDUCE DTYPE FOR CUSTOMER AND DATE\n",
    "    df['customer_ID'] = df['customer_ID'].str[-16:].str.hex_to_int().astype('int64')\n",
    "    df.S_2 = cudf.to_datetime( df.S_2 )\n",
    "    # SORT BY CUSTOMER AND DATE (so agg('last') works correctly)\n",
    "    #df = df.sort_values(['customer_ID','S_2'])\n",
    "    #df = df.reset_index(drop=True)\n",
    "    # FILL NAN\n",
    "    df = df.fillna(NAN_VALUE) \n",
    "    print('shape of data:', df.shape)\n",
    "    \n",
    "    return df\n",
    "\n",
    "print('Reading train data...')\n",
    "TRAIN_PATH = '../input/amex-data-integer-dtypes-parquet-format/train.parquet'\n",
    "train = read_file(path = TRAIN_PATH)"
   ]
  },
  {
   "cell_type": "code",
   "execution_count": 6,
   "id": "391f4030",
   "metadata": {
    "execution": {
     "iopub.execute_input": "2022-12-01T03:33:21.825097Z",
     "iopub.status.busy": "2022-12-01T03:33:21.824301Z",
     "iopub.status.idle": "2022-12-01T03:33:21.848605Z",
     "shell.execute_reply": "2022-12-01T03:33:21.847177Z"
    },
    "papermill": {
     "duration": 0.037673,
     "end_time": "2022-12-01T03:33:21.851022",
     "exception": false,
     "start_time": "2022-12-01T03:33:21.813349",
     "status": "completed"
    },
    "tags": []
   },
   "outputs": [
    {
     "name": "stdout",
     "output_type": "stream",
     "text": [
      "shape of truncated data: (55314, 190)\n"
     ]
    }
   ],
   "source": [
    "# truncate\n",
    "train = train.iloc[:int(train.shape[0]/100),:]\n",
    "print('shape of truncated data:', train.shape)"
   ]
  },
  {
   "cell_type": "code",
   "execution_count": 7,
   "id": "14f542a1",
   "metadata": {
    "execution": {
     "iopub.execute_input": "2022-12-01T03:33:21.872784Z",
     "iopub.status.busy": "2022-12-01T03:33:21.872155Z",
     "iopub.status.idle": "2022-12-01T03:33:21.877276Z",
     "shell.execute_reply": "2022-12-01T03:33:21.876494Z"
    },
    "papermill": {
     "duration": 0.01757,
     "end_time": "2022-12-01T03:33:21.879088",
     "exception": false,
     "start_time": "2022-12-01T03:33:21.861518",
     "status": "completed"
    },
    "tags": []
   },
   "outputs": [],
   "source": [
    "# train.head()"
   ]
  },
  {
   "cell_type": "code",
   "execution_count": 8,
   "id": "a39ab209",
   "metadata": {
    "execution": {
     "iopub.execute_input": "2022-12-01T03:33:21.899908Z",
     "iopub.status.busy": "2022-12-01T03:33:21.899236Z",
     "iopub.status.idle": "2022-12-01T03:33:21.906905Z",
     "shell.execute_reply": "2022-12-01T03:33:21.906036Z"
    },
    "papermill": {
     "duration": 0.020086,
     "end_time": "2022-12-01T03:33:21.908838",
     "exception": false,
     "start_time": "2022-12-01T03:33:21.888752",
     "status": "completed"
    },
    "tags": []
   },
   "outputs": [],
   "source": [
    "def process_and_feature_engineer(df):\n",
    "    # FEATURE ENGINEERING FROM \n",
    "    # https://www.kaggle.com/code/huseyincot/amex-agg-data-how-it-created\n",
    "    all_cols = [c for c in list(df.columns) if c not in ['customer_ID','S_2']]\n",
    "    cat_features = [\"B_30\",\"B_38\",\"D_114\",\"D_116\",\"D_117\",\"D_120\",\"D_126\",\"D_63\",\"D_64\",\"D_66\",\"D_68\"]\n",
    "    num_features = [col for col in all_cols if col not in cat_features]\n",
    "\n",
    "    test_num_agg = df.groupby(\"customer_ID\")[num_features].agg(['mean', 'std', 'min', 'max', 'last'])\n",
    "    test_num_agg.columns = ['_'.join(x) for x in test_num_agg.columns]\n",
    "\n",
    "    test_cat_agg = df.groupby(\"customer_ID\")[cat_features].agg(['count', 'last', 'nunique'])\n",
    "    test_cat_agg.columns = ['_'.join(x) for x in test_cat_agg.columns]\n",
    "\n",
    "    df = cudf.concat([test_num_agg, test_cat_agg], axis=1)\n",
    "    del test_num_agg, test_cat_agg\n",
    "    print('shape after engineering', df.shape )\n",
    "    \n",
    "    return df\n",
    "\n",
    "# train = process_and_feature_engineer(train)"
   ]
  },
  {
   "cell_type": "code",
   "execution_count": 9,
   "id": "dd220c13",
   "metadata": {
    "execution": {
     "iopub.execute_input": "2022-12-01T03:33:21.929119Z",
     "iopub.status.busy": "2022-12-01T03:33:21.928820Z",
     "iopub.status.idle": "2022-12-01T03:33:22.127966Z",
     "shell.execute_reply": "2022-12-01T03:33:22.127050Z"
    },
    "papermill": {
     "duration": 0.212005,
     "end_time": "2022-12-01T03:33:22.130441",
     "exception": false,
     "start_time": "2022-12-01T03:33:21.918436",
     "status": "completed"
    },
    "tags": []
   },
   "outputs": [
    {
     "name": "stdout",
     "output_type": "stream",
     "text": [
      "shape after engineering (4595, 188)\n"
     ]
    }
   ],
   "source": [
    "def process_and_feature_engineer_last_stmt(df):\n",
    "    # FEATURE ENGINEERING FROM \n",
    "    # https://www.kaggle.com/code/huseyincot/amex-agg-data-how-it-created\n",
    "    all_cols = [c for c in list(df.columns) if c not in ['customer_ID','S_2']]\n",
    "    cat_features = [\"B_30\",\"B_38\",\"D_114\",\"D_116\",\"D_117\",\"D_120\",\"D_126\",\"D_63\",\"D_64\",\"D_66\",\"D_68\"]\n",
    "    num_features = [col for col in all_cols if col not in cat_features]\n",
    "\n",
    "    test_num_agg = df.groupby(\"customer_ID\")[num_features].agg('last')\n",
    "    #test_num_agg.columns = ['_'.join(x) for x in test_num_agg.columns]\n",
    "\n",
    "    test_cat_agg = df.groupby(\"customer_ID\")[cat_features].agg('last')\n",
    "    #test_cat_agg.columns = ['_'.join(x) for x in test_cat_agg.columns]\n",
    "\n",
    "    df = cudf.concat([test_num_agg, test_cat_agg], axis=1)\n",
    "    del test_num_agg, test_cat_agg\n",
    "    print('shape after engineering', df.shape )\n",
    "    \n",
    "    return df\n",
    "\n",
    "train = process_and_feature_engineer_last_stmt(train)"
   ]
  },
  {
   "cell_type": "markdown",
   "id": "512926b2",
   "metadata": {
    "papermill": {
     "duration": 0.00843,
     "end_time": "2022-12-01T03:33:22.147795",
     "exception": false,
     "start_time": "2022-12-01T03:33:22.139365",
     "status": "completed"
    },
    "tags": []
   },
   "source": [
    "Data prep code from Joe Burns"
   ]
  },
  {
   "cell_type": "code",
   "execution_count": 10,
   "id": "e194470a",
   "metadata": {
    "execution": {
     "iopub.execute_input": "2022-12-01T03:33:22.165967Z",
     "iopub.status.busy": "2022-12-01T03:33:22.165688Z",
     "iopub.status.idle": "2022-12-01T03:33:22.170836Z",
     "shell.execute_reply": "2022-12-01T03:33:22.169964Z"
    },
    "papermill": {
     "duration": 0.01613,
     "end_time": "2022-12-01T03:33:22.172523",
     "exception": false,
     "start_time": "2022-12-01T03:33:22.156393",
     "status": "completed"
    },
    "tags": []
   },
   "outputs": [],
   "source": [
    "# Preparing the TRAINING data for creating the model.\n",
    "def prep_df(df):\n",
    "    # Set index\n",
    "    # df = df.iloc[:,~df.columns.duplicated()]\n",
    "\n",
    "    # Drop unecessary columns\n",
    "    df = df.drop(columns=[\"customer_ID\", \"S_2\"])\n",
    "\n",
    "    # Missing values handling\n",
    "    missing_props = df.isna().mean(axis=0)\n",
    "    \n",
    "\n",
    "    over_threshold = missing_props[missing_props >= 0.4]\n",
    "    # print(f'over_threshold = {over_threshold}')\n",
    "    over_threshold = over_threshold.to_pandas()\n",
    "\n",
    "    df.drop(over_threshold.index, \n",
    "            axis=1, \n",
    "            inplace=True)\n",
    "\n",
    "    \n",
    "    \n",
    "    return df\n",
    "\n",
    "# train = prep_df(train)"
   ]
  },
  {
   "cell_type": "code",
   "execution_count": 11,
   "id": "effd92e9",
   "metadata": {
    "execution": {
     "iopub.execute_input": "2022-12-01T03:33:22.190630Z",
     "iopub.status.busy": "2022-12-01T03:33:22.190352Z",
     "iopub.status.idle": "2022-12-01T03:33:22.195435Z",
     "shell.execute_reply": "2022-12-01T03:33:22.194596Z"
    },
    "papermill": {
     "duration": 0.016048,
     "end_time": "2022-12-01T03:33:22.197153",
     "exception": false,
     "start_time": "2022-12-01T03:33:22.181105",
     "status": "completed"
    },
    "tags": []
   },
   "outputs": [
    {
     "data": {
      "text/plain": [
       "(4595, 188)"
      ]
     },
     "execution_count": 11,
     "metadata": {},
     "output_type": "execute_result"
    }
   ],
   "source": [
    "train.shape"
   ]
  },
  {
   "cell_type": "code",
   "execution_count": 12,
   "id": "ca7ba8e4",
   "metadata": {
    "execution": {
     "iopub.execute_input": "2022-12-01T03:33:22.216010Z",
     "iopub.status.busy": "2022-12-01T03:33:22.215263Z",
     "iopub.status.idle": "2022-12-01T03:33:22.660720Z",
     "shell.execute_reply": "2022-12-01T03:33:22.659641Z"
    },
    "papermill": {
     "duration": 0.457405,
     "end_time": "2022-12-01T03:33:22.663005",
     "exception": false,
     "start_time": "2022-12-01T03:33:22.205600",
     "status": "completed"
    },
    "tags": []
   },
   "outputs": [
    {
     "name": "stdout",
     "output_type": "stream",
     "text": [
      "There are 188 features!\n"
     ]
    }
   ],
   "source": [
    "# ADD TARGETS\n",
    "targets = cudf.read_csv('../input/amex-default-prediction/train_labels.csv')\n",
    "targets['customer_ID'] = targets['customer_ID'].str[-16:].str.hex_to_int().astype('int64')\n",
    "targets = targets.set_index('customer_ID')\n",
    "train = train.merge(targets, left_index=True, right_index=True, how='left')\n",
    "train.target = train.target.astype('int8')\n",
    "del targets\n",
    "\n",
    "# NEEDED TO MAKE CV DETERMINISTIC (cudf merge above randomly shuffles rows)\n",
    "train = train.sort_index().reset_index()\n",
    "\n",
    "# FEATURES\n",
    "FEATURES = train.columns[1:-1]\n",
    "print(f'There are {len(FEATURES)} features!')"
   ]
  },
  {
   "cell_type": "markdown",
   "id": "ac10bb60",
   "metadata": {
    "papermill": {
     "duration": 0.009948,
     "end_time": "2022-12-01T03:33:22.683496",
     "exception": false,
     "start_time": "2022-12-01T03:33:22.673548",
     "status": "completed"
    },
    "tags": []
   },
   "source": [
    "# Train XGB\n",
    "We will train using `DeviceQuantileDMatrix`. This has a very small GPU memory footprint."
   ]
  },
  {
   "cell_type": "code",
   "execution_count": 13,
   "id": "0ebdceeb",
   "metadata": {
    "execution": {
     "iopub.execute_input": "2022-12-01T03:33:22.706310Z",
     "iopub.status.busy": "2022-12-01T03:33:22.705448Z",
     "iopub.status.idle": "2022-12-01T03:33:22.818322Z",
     "shell.execute_reply": "2022-12-01T03:33:22.817306Z"
    },
    "papermill": {
     "duration": 0.126479,
     "end_time": "2022-12-01T03:33:22.820783",
     "exception": false,
     "start_time": "2022-12-01T03:33:22.694304",
     "status": "completed"
    },
    "tags": []
   },
   "outputs": [
    {
     "name": "stdout",
     "output_type": "stream",
     "text": [
      "XGB Version 1.6.1\n"
     ]
    }
   ],
   "source": [
    "# LOAD XGB LIBRARY\n",
    "from sklearn.model_selection import KFold\n",
    "import xgboost as xgb\n",
    "print('XGB Version',xgb.__version__)\n",
    "\n",
    "# XGB MODEL PARAMETERS\n",
    "xgb_parms = { \n",
    "    'max_depth':4, \n",
    "    'learning_rate':0.1, \n",
    "    'subsample':0.8,\n",
    "    'colsample_bytree':0.6, \n",
    "    'eval_metric':'logloss',\n",
    "    'objective':'binary:logistic',\n",
    "    'tree_method':'gpu_hist',\n",
    "    'predictor':'gpu_predictor',\n",
    "    'random_state':SEED\n",
    "}"
   ]
  },
  {
   "cell_type": "code",
   "execution_count": 14,
   "id": "a844ed3f",
   "metadata": {
    "execution": {
     "iopub.execute_input": "2022-12-01T03:33:22.840755Z",
     "iopub.status.busy": "2022-12-01T03:33:22.840466Z",
     "iopub.status.idle": "2022-12-01T03:33:22.848056Z",
     "shell.execute_reply": "2022-12-01T03:33:22.847185Z"
    },
    "papermill": {
     "duration": 0.019189,
     "end_time": "2022-12-01T03:33:22.849774",
     "exception": false,
     "start_time": "2022-12-01T03:33:22.830585",
     "status": "completed"
    },
    "tags": []
   },
   "outputs": [],
   "source": [
    "# NEEDED WITH DeviceQuantileDMatrix BELOW\n",
    "class IterLoadForDMatrix(xgb.core.DataIter):\n",
    "    def __init__(self, df=None, features=None, target=None, batch_size=256*1024):\n",
    "        self.features = features\n",
    "        self.target = target\n",
    "        self.df = df\n",
    "        self.it = 0 # set iterator to 0\n",
    "        self.batch_size = batch_size\n",
    "        self.batches = int( np.ceil( len(df) / self.batch_size ) )\n",
    "        super().__init__()\n",
    "\n",
    "    def reset(self):\n",
    "        '''Reset the iterator'''\n",
    "        self.it = 0\n",
    "\n",
    "    def next(self, input_data):\n",
    "        '''Yield next batch of data.'''\n",
    "        if self.it == self.batches:\n",
    "            return 0 # Return 0 when there's no more batch.\n",
    "        \n",
    "        a = self.it * self.batch_size\n",
    "        b = min( (self.it + 1) * self.batch_size, len(self.df) )\n",
    "        dt = cudf.DataFrame(self.df.iloc[a:b])\n",
    "        input_data(data=dt[self.features], label=dt[self.target]) #, weight=dt['weight'])\n",
    "        self.it += 1\n",
    "        return 1"
   ]
  },
  {
   "cell_type": "code",
   "execution_count": 15,
   "id": "99be8ddb",
   "metadata": {
    "execution": {
     "iopub.execute_input": "2022-12-01T03:33:22.868590Z",
     "iopub.status.busy": "2022-12-01T03:33:22.868335Z",
     "iopub.status.idle": "2022-12-01T03:33:22.877335Z",
     "shell.execute_reply": "2022-12-01T03:33:22.876633Z"
    },
    "papermill": {
     "duration": 0.020246,
     "end_time": "2022-12-01T03:33:22.878955",
     "exception": false,
     "start_time": "2022-12-01T03:33:22.858709",
     "status": "completed"
    },
    "tags": []
   },
   "outputs": [],
   "source": [
    "# https://www.kaggle.com/kyakovlev\n",
    "# https://www.kaggle.com/competitions/amex-default-prediction/discussion/327534\n",
    "def amex_metric_mod(y_true, y_pred):\n",
    "\n",
    "    labels     = np.transpose(np.array([y_true, y_pred]))\n",
    "    labels     = labels[labels[:, 1].argsort()[::-1]]\n",
    "    weights    = np.where(labels[:,0]==0, 20, 1)\n",
    "    cut_vals   = labels[np.cumsum(weights) <= int(0.04 * np.sum(weights))]\n",
    "    top_four   = np.sum(cut_vals[:,0]) / np.sum(labels[:,0])\n",
    "\n",
    "    gini = [0,0]\n",
    "    for i in [1,0]:\n",
    "        labels         = np.transpose(np.array([y_true, y_pred]))\n",
    "        labels         = labels[labels[:, i].argsort()[::-1]]\n",
    "        weight         = np.where(labels[:,0]==0, 20, 1)\n",
    "        weight_random  = np.cumsum(weight / np.sum(weight))\n",
    "        total_pos      = np.sum(labels[:, 0] *  weight)\n",
    "        cum_pos_found  = np.cumsum(labels[:, 0] * weight)\n",
    "        lorentz        = cum_pos_found / total_pos\n",
    "        gini[i]        = np.sum((lorentz - weight_random) * weight)\n",
    "\n",
    "    return 0.5 * (gini[1]/gini[0] + top_four)"
   ]
  },
  {
   "cell_type": "code",
   "execution_count": 16,
   "id": "e32485e3",
   "metadata": {
    "execution": {
     "iopub.execute_input": "2022-12-01T03:33:22.898055Z",
     "iopub.status.busy": "2022-12-01T03:33:22.897765Z",
     "iopub.status.idle": "2022-12-01T03:33:25.603323Z",
     "shell.execute_reply": "2022-12-01T03:33:25.602472Z"
    },
    "papermill": {
     "duration": 2.717961,
     "end_time": "2022-12-01T03:33:25.605860",
     "exception": false,
     "start_time": "2022-12-01T03:33:22.887899",
     "status": "completed"
    },
    "scrolled": true,
    "tags": []
   },
   "outputs": [
    {
     "name": "stdout",
     "output_type": "stream",
     "text": [
      "#########################\n",
      "### Fold 1\n",
      "### Train size 2297 Valid size 2298\n",
      "### Training with 100% fold data...\n",
      "#########################\n",
      "[0]\ttrain-logloss:0.63302\tvalid-logloss:0.63671\n",
      "[100]\ttrain-logloss:0.07719\tvalid-logloss:0.27829\n",
      "[147]\ttrain-logloss:0.05034\tvalid-logloss:0.28745\n",
      "Kaggle Metric = 0.7096252198246621 \n",
      "\n",
      "#########################\n",
      "### Fold 2\n",
      "### Train size 2298 Valid size 2297\n",
      "### Training with 100% fold data...\n",
      "#########################\n",
      "[0]\ttrain-logloss:0.63400\tvalid-logloss:0.63716\n",
      "[100]\ttrain-logloss:0.09919\tvalid-logloss:0.24799\n",
      "[175]\ttrain-logloss:0.05002\tvalid-logloss:0.25577\n",
      "Kaggle Metric = 0.7591148047643254 \n",
      "\n",
      "#########################\n",
      "OVERALL CV Kaggle Metric = 0.7351658391858302\n"
     ]
    }
   ],
   "source": [
    "importances = []\n",
    "oof = []\n",
    "train = train.to_pandas() # free GPU memory\n",
    "TRAIN_SUBSAMPLE = 1.0\n",
    "gc.collect()\n",
    "\n",
    "skf = KFold(n_splits=FOLDS, shuffle=True, random_state=SEED)\n",
    "for fold,(train_idx, valid_idx) in enumerate(skf.split(\n",
    "            train, train.target )):\n",
    "    \n",
    "    # TRAIN WITH SUBSAMPLE OF TRAIN FOLD DATA\n",
    "    if TRAIN_SUBSAMPLE<1.0:\n",
    "        np.random.seed(SEED)\n",
    "        train_idx = np.random.choice(train_idx, \n",
    "                       int(len(train_idx)*TRAIN_SUBSAMPLE), replace=False)\n",
    "        np.random.seed(None)\n",
    "    \n",
    "    print('#'*25)\n",
    "    print('### Fold',fold+1)\n",
    "    print('### Train size',len(train_idx),'Valid size',len(valid_idx))\n",
    "    print(f'### Training with {int(TRAIN_SUBSAMPLE*100)}% fold data...')\n",
    "    print('#'*25)\n",
    "    \n",
    "    # TRAIN, VALID, TEST FOR FOLD K\n",
    "    Xy_train = IterLoadForDMatrix(train.loc[train_idx], FEATURES, 'target')\n",
    "    X_valid = train.loc[valid_idx, FEATURES]\n",
    "    y_valid = train.loc[valid_idx, 'target']\n",
    "    \n",
    "    dtrain = xgb.DeviceQuantileDMatrix(Xy_train, max_bin=256)\n",
    "    dvalid = xgb.DMatrix(data=X_valid, label=y_valid)\n",
    "    \n",
    "    # TRAIN MODEL FOLD K\n",
    "    model = xgb.train(xgb_parms, \n",
    "                dtrain=dtrain,\n",
    "                evals=[(dtrain,'train'),(dvalid,'valid')],\n",
    "                num_boost_round=9999,\n",
    "                early_stopping_rounds=100,\n",
    "                verbose_eval=100) \n",
    "    model.save_model(f'XGB_v{VER}_fold{fold}.xgb')\n",
    "    \n",
    "    # GET FEATURE IMPORTANCE FOR FOLD K\n",
    "    dd = model.get_score(importance_type='weight')\n",
    "    df = pd.DataFrame({'feature':dd.keys(),f'importance_{fold}':dd.values()})\n",
    "    importances.append(df)\n",
    "            \n",
    "    # INFER OOF FOLD K\n",
    "    oof_preds = model.predict(dvalid)\n",
    "    acc = amex_metric_mod(y_valid.values, oof_preds)\n",
    "    print('Kaggle Metric =',acc,'\\n')\n",
    "    \n",
    "    # SAVE OOF\n",
    "    df = train.loc[valid_idx, ['customer_ID','target'] ].copy()\n",
    "    df['oof_pred'] = oof_preds\n",
    "    oof.append( df )\n",
    "    \n",
    "    del dtrain, Xy_train, dd, df\n",
    "    del X_valid, y_valid, dvalid, model\n",
    "    \n",
    "    _ = gc.collect()\n",
    "    \n",
    "print('#'*25)\n",
    "oof = pd.concat(oof,axis=0,ignore_index=True).set_index('customer_ID')\n",
    "acc = amex_metric_mod(oof.target.values, oof.oof_pred.values)\n",
    "print('OVERALL CV Kaggle Metric =',acc)\n",
    "\n",
    "del oof"
   ]
  },
  {
   "cell_type": "code",
   "execution_count": 17,
   "id": "1e2787ba",
   "metadata": {
    "execution": {
     "iopub.execute_input": "2022-12-01T03:33:25.627004Z",
     "iopub.status.busy": "2022-12-01T03:33:25.626697Z",
     "iopub.status.idle": "2022-12-01T03:33:25.744729Z",
     "shell.execute_reply": "2022-12-01T03:33:25.743129Z"
    },
    "papermill": {
     "duration": 0.130105,
     "end_time": "2022-12-01T03:33:25.746525",
     "exception": false,
     "start_time": "2022-12-01T03:33:25.616420",
     "status": "completed"
    },
    "tags": []
   },
   "outputs": [],
   "source": [
    "\n",
    "# CLEAN RAM\n",
    "del train\n",
    "_ = gc.collect()\n"
   ]
  },
  {
   "cell_type": "markdown",
   "id": "ffd0fe59",
   "metadata": {
    "papermill": {
     "duration": 0.009022,
     "end_time": "2022-12-01T03:33:25.765163",
     "exception": false,
     "start_time": "2022-12-01T03:33:25.756141",
     "status": "completed"
    },
    "tags": []
   },
   "source": [
    "# Save OOF Preds"
   ]
  },
  {
   "cell_type": "code",
   "execution_count": 18,
   "id": "50799629",
   "metadata": {
    "execution": {
     "iopub.execute_input": "2022-12-01T03:33:25.785062Z",
     "iopub.status.busy": "2022-12-01T03:33:25.784217Z",
     "iopub.status.idle": "2022-12-01T03:33:25.789559Z",
     "shell.execute_reply": "2022-12-01T03:33:25.788992Z"
    },
    "papermill": {
     "duration": 0.016883,
     "end_time": "2022-12-01T03:33:25.791167",
     "exception": false,
     "start_time": "2022-12-01T03:33:25.774284",
     "status": "completed"
    },
    "tags": []
   },
   "outputs": [
    {
     "data": {
      "text/plain": [
       "\"\\noof_xgb = pd.read_parquet(TRAIN_PATH, columns=['customer_ID']).drop_duplicates()\\noof_xgb['customer_ID_hash'] = oof_xgb['customer_ID'].apply(lambda x: int(x[-16:],16) ).astype('int64')\\noof_xgb = oof_xgb.set_index('customer_ID_hash')\\noof_xgb = oof_xgb.merge(oof, left_index=True, right_index=True)\\noof_xgb = oof_xgb.sort_index().reset_index(drop=True)\\noof_xgb.to_csv(f'oof_xgb_v{VER}.csv',index=False)\\noof_xgb.head()\\n\""
      ]
     },
     "execution_count": 18,
     "metadata": {},
     "output_type": "execute_result"
    }
   ],
   "source": [
    "'''\n",
    "oof_xgb = pd.read_parquet(TRAIN_PATH, columns=['customer_ID']).drop_duplicates()\n",
    "oof_xgb['customer_ID_hash'] = oof_xgb['customer_ID'].apply(lambda x: int(x[-16:],16) ).astype('int64')\n",
    "oof_xgb = oof_xgb.set_index('customer_ID_hash')\n",
    "oof_xgb = oof_xgb.merge(oof, left_index=True, right_index=True)\n",
    "oof_xgb = oof_xgb.sort_index().reset_index(drop=True)\n",
    "oof_xgb.to_csv(f'oof_xgb_v{VER}.csv',index=False)\n",
    "oof_xgb.head()\n",
    "'''"
   ]
  },
  {
   "cell_type": "code",
   "execution_count": 19,
   "id": "878b88c9",
   "metadata": {
    "execution": {
     "iopub.execute_input": "2022-12-01T03:33:25.811223Z",
     "iopub.status.busy": "2022-12-01T03:33:25.810582Z",
     "iopub.status.idle": "2022-12-01T03:33:25.815403Z",
     "shell.execute_reply": "2022-12-01T03:33:25.814675Z"
    },
    "papermill": {
     "duration": 0.016538,
     "end_time": "2022-12-01T03:33:25.817129",
     "exception": false,
     "start_time": "2022-12-01T03:33:25.800591",
     "status": "completed"
    },
    "tags": []
   },
   "outputs": [
    {
     "data": {
      "text/plain": [
       "\"\\n# PLOT OOF PREDICTIONS\\nplt.hist(oof_xgb.oof_pred.values, bins=100)\\nplt.title('OOF Predictions')\\nplt.show()\\n\""
      ]
     },
     "execution_count": 19,
     "metadata": {},
     "output_type": "execute_result"
    }
   ],
   "source": [
    "'''\n",
    "# PLOT OOF PREDICTIONS\n",
    "plt.hist(oof_xgb.oof_pred.values, bins=100)\n",
    "plt.title('OOF Predictions')\n",
    "plt.show()\n",
    "'''"
   ]
  },
  {
   "cell_type": "code",
   "execution_count": 20,
   "id": "81c421c2",
   "metadata": {
    "execution": {
     "iopub.execute_input": "2022-12-01T03:33:25.837157Z",
     "iopub.status.busy": "2022-12-01T03:33:25.836516Z",
     "iopub.status.idle": "2022-12-01T03:33:25.841380Z",
     "shell.execute_reply": "2022-12-01T03:33:25.840645Z"
    },
    "papermill": {
     "duration": 0.016607,
     "end_time": "2022-12-01T03:33:25.843110",
     "exception": false,
     "start_time": "2022-12-01T03:33:25.826503",
     "status": "completed"
    },
    "tags": []
   },
   "outputs": [
    {
     "data": {
      "text/plain": [
       "'\\n# CLEAR VRAM, RAM FOR INFERENCE BELOW\\ndel oof_xgb, oof\\n_ = gc.collect()\\n'"
      ]
     },
     "execution_count": 20,
     "metadata": {},
     "output_type": "execute_result"
    }
   ],
   "source": [
    "'''\n",
    "# CLEAR VRAM, RAM FOR INFERENCE BELOW\n",
    "del oof_xgb, oof\n",
    "_ = gc.collect()\n",
    "'''"
   ]
  },
  {
   "cell_type": "markdown",
   "id": "319e1d08",
   "metadata": {
    "papermill": {
     "duration": 0.009188,
     "end_time": "2022-12-01T03:33:25.861692",
     "exception": false,
     "start_time": "2022-12-01T03:33:25.852504",
     "status": "completed"
    },
    "tags": []
   },
   "source": [
    "# Feature Importance"
   ]
  },
  {
   "cell_type": "code",
   "execution_count": 21,
   "id": "1ad367b9",
   "metadata": {
    "execution": {
     "iopub.execute_input": "2022-12-01T03:33:25.881797Z",
     "iopub.status.busy": "2022-12-01T03:33:25.881179Z",
     "iopub.status.idle": "2022-12-01T03:33:25.899688Z",
     "shell.execute_reply": "2022-12-01T03:33:25.899026Z"
    },
    "papermill": {
     "duration": 0.030378,
     "end_time": "2022-12-01T03:33:25.901446",
     "exception": false,
     "start_time": "2022-12-01T03:33:25.871068",
     "status": "completed"
    },
    "tags": []
   },
   "outputs": [],
   "source": [
    "import matplotlib.pyplot as plt\n",
    "\n",
    "df = importances[0].copy()\n",
    "for k in range(1,FOLDS): df = df.merge(importances[k], on='feature', how='left')\n",
    "df['importance'] = df.iloc[:,1:].mean(axis=1)\n",
    "df = df.sort_values('importance',ascending=False)\n",
    "df.to_csv(f'xgb_feature_importance_v{VER}.csv',index=False)"
   ]
  },
  {
   "cell_type": "code",
   "execution_count": 22,
   "id": "e3b17228",
   "metadata": {
    "execution": {
     "iopub.execute_input": "2022-12-01T03:33:25.921589Z",
     "iopub.status.busy": "2022-12-01T03:33:25.920966Z",
     "iopub.status.idle": "2022-12-01T03:33:26.194523Z",
     "shell.execute_reply": "2022-12-01T03:33:26.193805Z"
    },
    "papermill": {
     "duration": 0.285408,
     "end_time": "2022-12-01T03:33:26.196268",
     "exception": false,
     "start_time": "2022-12-01T03:33:25.910860",
     "status": "completed"
    },
    "tags": []
   },
   "outputs": [
    {
     "data": {
      "image/png": "[encoded data removed]",
      "text/plain": [
       "<Figure size 720x720 with 1 Axes>"
      ]
     },
     "metadata": {
      "needs_background": "light"
     },
     "output_type": "display_data"
    }
   ],
   "source": [
    "NUM_FEATURES = 20\n",
    "plt.figure(figsize=(10,5*NUM_FEATURES//10))\n",
    "plt.barh(np.arange(NUM_FEATURES,0,-1), df.importance.values[:NUM_FEATURES])\n",
    "plt.yticks(np.arange(NUM_FEATURES,0,-1), df.feature.values[:NUM_FEATURES])\n",
    "plt.title(f'XGB Feature Importance - Top {NUM_FEATURES}')\n",
    "plt.show()"
   ]
  },
  {
   "cell_type": "markdown",
   "id": "8f072e07",
   "metadata": {
    "papermill": {
     "duration": 0.009628,
     "end_time": "2022-12-01T03:33:26.215871",
     "exception": false,
     "start_time": "2022-12-01T03:33:26.206243",
     "status": "completed"
    },
    "tags": []
   },
   "source": [
    "# Process and Feature Engineer Test Data\n",
    "We will load @raddar Kaggle dataset from [here][1] with discussion [here][2]. Then we will engineer features suggested by @huseyincot in his notebooks [here][1] and [here][4]. We will use [RAPIDS][5] and the GPU to create new features quickly.\n",
    "\n",
    "[1]: https://www.kaggle.com/datasets/raddar/amex-data-integer-dtypes-parquet-format\n",
    "[2]: https://www.kaggle.com/competitions/amex-default-prediction/discussion/328514\n",
    "[3]: https://www.kaggle.com/code/huseyincot/amex-catboost-0-793\n",
    "[4]: https://www.kaggle.com/code/huseyincot/amex-agg-data-how-it-created\n",
    "[5]: https://rapids.ai/"
   ]
  },
  {
   "cell_type": "code",
   "execution_count": 23,
   "id": "a89973cd",
   "metadata": {
    "execution": {
     "iopub.execute_input": "2022-12-01T03:33:26.236417Z",
     "iopub.status.busy": "2022-12-01T03:33:26.236036Z",
     "iopub.status.idle": "2022-12-01T03:33:32.354217Z",
     "shell.execute_reply": "2022-12-01T03:33:32.353328Z"
    },
    "papermill": {
     "duration": 6.131514,
     "end_time": "2022-12-01T03:33:32.357027",
     "exception": false,
     "start_time": "2022-12-01T03:33:26.225513",
     "status": "completed"
    },
    "tags": []
   },
   "outputs": [
    {
     "name": "stdout",
     "output_type": "stream",
     "text": [
      "Reading test data...\n",
      "shape of data: (11363762, 2)\n",
      "We will process test data as 40 separate parts.\n",
      "There will be 23115 customers in each part (except the last part).\n",
      "Below are number of rows in each part:\n",
      "[284115, 283805, 284292, 284177, 284473, 284887, 284268, 283601, 283871, 283663, 284162, 283860, 284154, 283969, 284185, 283398, 284747, 283783, 283793, 283753, 284024, 284371, 284535, 284200, 284115, 284150, 284371, 283940, 283689, 284634, 284476, 284404, 284413, 283889, 284292, 283710, 283484, 283857, 283849, 284403]\n"
     ]
    }
   ],
   "source": [
    "# CALCULATE SIZE OF EACH SEPARATE TEST PART\n",
    "def get_rows(customers, test, NUM_PARTS = 4, verbose = ''):\n",
    "    chunk = len(customers)//NUM_PARTS\n",
    "    if verbose != '':\n",
    "        print(f'We will process {verbose} data as {NUM_PARTS} separate parts.')\n",
    "        print(f'There will be {chunk} customers in each part (except the last part).')\n",
    "        print('Below are number of rows in each part:')\n",
    "    rows = []\n",
    "\n",
    "    for k in range(NUM_PARTS):\n",
    "        if k==NUM_PARTS-1: cc = customers[k*chunk:]\n",
    "        else: cc = customers[k*chunk:(k+1)*chunk]\n",
    "        s = test.loc[test.customer_ID.isin(cc)].shape[0]\n",
    "        rows.append(s)\n",
    "    if verbose != '': print( rows )\n",
    "    return rows,chunk\n",
    "\n",
    "# COMPUTE SIZE OF 4 PARTS FOR TEST DATA\n",
    "NUM_PARTS = 40\n",
    "TEST_PATH = '../input/amex-data-integer-dtypes-parquet-format/test.parquet'\n",
    "\n",
    "print(f'Reading test data...')\n",
    "test = read_file(path = TEST_PATH, usecols = ['customer_ID','S_2'])\n",
    "customers = test[['customer_ID']].drop_duplicates().sort_index().values.flatten()\n",
    "rows,num_cust = get_rows(customers, test[['customer_ID']], NUM_PARTS = NUM_PARTS, verbose = 'test')\n",
    "# print(f'rows shape = {rows.shape}, chunk shape = {len(num_cust)}')"
   ]
  },
  {
   "cell_type": "markdown",
   "id": "e7ab40f0",
   "metadata": {
    "papermill": {
     "duration": 0.009675,
     "end_time": "2022-12-01T03:33:32.377591",
     "exception": false,
     "start_time": "2022-12-01T03:33:32.367916",
     "status": "completed"
    },
    "tags": []
   },
   "source": [
    "# Infer Test"
   ]
  },
  {
   "cell_type": "code",
   "execution_count": 24,
   "id": "214c4372",
   "metadata": {
    "execution": {
     "iopub.execute_input": "2022-12-01T03:33:32.398970Z",
     "iopub.status.busy": "2022-12-01T03:33:32.398060Z",
     "iopub.status.idle": "2022-12-01T03:36:58.107635Z",
     "shell.execute_reply": "2022-12-01T03:36:58.106828Z"
    },
    "papermill": {
     "duration": 205.722737,
     "end_time": "2022-12-01T03:36:58.110129",
     "exception": false,
     "start_time": "2022-12-01T03:33:32.387392",
     "status": "completed"
    },
    "tags": []
   },
   "outputs": [
    {
     "name": "stdout",
     "output_type": "stream",
     "text": [
      "\n",
      "Reading test data...\n",
      "shape of data: (11363762, 190)\n",
      "=> Test part 1 has shape (284115, 190)\n",
      "shape after engineering (23115, 188)\n",
      "\n",
      "Reading test data...\n",
      "shape of data: (11363762, 190)\n",
      "=> Test part 2 has shape (283805, 190)\n",
      "shape after engineering (23115, 188)\n",
      "\n",
      "Reading test data...\n",
      "shape of data: (11363762, 190)\n",
      "=> Test part 3 has shape (284292, 190)\n",
      "shape after engineering (23115, 188)\n",
      "\n",
      "Reading test data...\n",
      "shape of data: (11363762, 190)\n",
      "=> Test part 4 has shape (284177, 190)\n",
      "shape after engineering (23115, 188)\n",
      "\n",
      "Reading test data...\n",
      "shape of data: (11363762, 190)\n",
      "=> Test part 5 has shape (284473, 190)\n",
      "shape after engineering (23115, 188)\n",
      "\n",
      "Reading test data...\n",
      "shape of data: (11363762, 190)\n",
      "=> Test part 6 has shape (284887, 190)\n",
      "shape after engineering (23115, 188)\n",
      "\n",
      "Reading test data...\n",
      "shape of data: (11363762, 190)\n",
      "=> Test part 7 has shape (284268, 190)\n",
      "shape after engineering (23115, 188)\n",
      "\n",
      "Reading test data...\n",
      "shape of data: (11363762, 190)\n",
      "=> Test part 8 has shape (283601, 190)\n",
      "shape after engineering (23115, 188)\n",
      "\n",
      "Reading test data...\n",
      "shape of data: (11363762, 190)\n",
      "=> Test part 9 has shape (283871, 190)\n",
      "shape after engineering (23115, 188)\n",
      "\n",
      "Reading test data...\n",
      "shape of data: (11363762, 190)\n",
      "=> Test part 10 has shape (283663, 190)\n",
      "shape after engineering (23115, 188)\n",
      "\n",
      "Reading test data...\n",
      "shape of data: (11363762, 190)\n",
      "=> Test part 11 has shape (284162, 190)\n",
      "shape after engineering (23115, 188)\n",
      "\n",
      "Reading test data...\n",
      "shape of data: (11363762, 190)\n",
      "=> Test part 12 has shape (283860, 190)\n",
      "shape after engineering (23115, 188)\n",
      "\n",
      "Reading test data...\n",
      "shape of data: (11363762, 190)\n",
      "=> Test part 13 has shape (284154, 190)\n",
      "shape after engineering (23115, 188)\n",
      "\n",
      "Reading test data...\n",
      "shape of data: (11363762, 190)\n",
      "=> Test part 14 has shape (283969, 190)\n",
      "shape after engineering (23115, 188)\n",
      "\n",
      "Reading test data...\n",
      "shape of data: (11363762, 190)\n",
      "=> Test part 15 has shape (284185, 190)\n",
      "shape after engineering (23115, 188)\n",
      "\n",
      "Reading test data...\n",
      "shape of data: (11363762, 190)\n",
      "=> Test part 16 has shape (283398, 190)\n",
      "shape after engineering (23115, 188)\n",
      "\n",
      "Reading test data...\n",
      "shape of data: (11363762, 190)\n",
      "=> Test part 17 has shape (284747, 190)\n",
      "shape after engineering (23115, 188)\n",
      "\n",
      "Reading test data...\n",
      "shape of data: (11363762, 190)\n",
      "=> Test part 18 has shape (283783, 190)\n",
      "shape after engineering (23115, 188)\n",
      "\n",
      "Reading test data...\n",
      "shape of data: (11363762, 190)\n",
      "=> Test part 19 has shape (283793, 190)\n",
      "shape after engineering (23115, 188)\n",
      "\n",
      "Reading test data...\n",
      "shape of data: (11363762, 190)\n",
      "=> Test part 20 has shape (283753, 190)\n",
      "shape after engineering (23115, 188)\n",
      "\n",
      "Reading test data...\n",
      "shape of data: (11363762, 190)\n",
      "=> Test part 21 has shape (284024, 190)\n",
      "shape after engineering (23115, 188)\n",
      "\n",
      "Reading test data...\n",
      "shape of data: (11363762, 190)\n",
      "=> Test part 22 has shape (284371, 190)\n",
      "shape after engineering (23115, 188)\n",
      "\n",
      "Reading test data...\n",
      "shape of data: (11363762, 190)\n",
      "=> Test part 23 has shape (284535, 190)\n",
      "shape after engineering (23115, 188)\n",
      "\n",
      "Reading test data...\n",
      "shape of data: (11363762, 190)\n",
      "=> Test part 24 has shape (284200, 190)\n",
      "shape after engineering (23115, 188)\n",
      "\n",
      "Reading test data...\n",
      "shape of data: (11363762, 190)\n",
      "=> Test part 25 has shape (284115, 190)\n",
      "shape after engineering (23115, 188)\n",
      "\n",
      "Reading test data...\n",
      "shape of data: (11363762, 190)\n",
      "=> Test part 26 has shape (284150, 190)\n",
      "shape after engineering (23115, 188)\n",
      "\n",
      "Reading test data...\n",
      "shape of data: (11363762, 190)\n",
      "=> Test part 27 has shape (284371, 190)\n",
      "shape after engineering (23115, 188)\n",
      "\n",
      "Reading test data...\n",
      "shape of data: (11363762, 190)\n",
      "=> Test part 28 has shape (283940, 190)\n",
      "shape after engineering (23115, 188)\n",
      "\n",
      "Reading test data...\n",
      "shape of data: (11363762, 190)\n",
      "=> Test part 29 has shape (283689, 190)\n",
      "shape after engineering (23115, 188)\n",
      "\n",
      "Reading test data...\n",
      "shape of data: (11363762, 190)\n",
      "=> Test part 30 has shape (284634, 190)\n",
      "shape after engineering (23115, 188)\n",
      "\n",
      "Reading test data...\n",
      "shape of data: (11363762, 190)\n",
      "=> Test part 31 has shape (284476, 190)\n",
      "shape after engineering (23115, 188)\n",
      "\n",
      "Reading test data...\n",
      "shape of data: (11363762, 190)\n",
      "=> Test part 32 has shape (284404, 190)\n",
      "shape after engineering (23115, 188)\n",
      "\n",
      "Reading test data...\n",
      "shape of data: (11363762, 190)\n",
      "=> Test part 33 has shape (284413, 190)\n",
      "shape after engineering (23115, 188)\n",
      "\n",
      "Reading test data...\n",
      "shape of data: (11363762, 190)\n",
      "=> Test part 34 has shape (283889, 190)\n",
      "shape after engineering (23115, 188)\n",
      "\n",
      "Reading test data...\n",
      "shape of data: (11363762, 190)\n",
      "=> Test part 35 has shape (284292, 190)\n",
      "shape after engineering (23115, 188)\n",
      "\n",
      "Reading test data...\n",
      "shape of data: (11363762, 190)\n",
      "=> Test part 36 has shape (283710, 190)\n",
      "shape after engineering (23115, 188)\n",
      "\n",
      "Reading test data...\n",
      "shape of data: (11363762, 190)\n",
      "=> Test part 37 has shape (283484, 190)\n",
      "shape after engineering (23115, 188)\n",
      "\n",
      "Reading test data...\n",
      "shape of data: (11363762, 190)\n",
      "=> Test part 38 has shape (283857, 190)\n",
      "shape after engineering (23115, 188)\n",
      "\n",
      "Reading test data...\n",
      "shape of data: (11363762, 190)\n",
      "=> Test part 39 has shape (283849, 190)\n",
      "shape after engineering (23115, 188)\n",
      "\n",
      "Reading test data...\n",
      "shape of data: (11363762, 190)\n",
      "=> Test part 40 has shape (284403, 190)\n",
      "shape after engineering (23136, 188)\n"
     ]
    }
   ],
   "source": [
    "# INFER TEST DATA IN PARTS\n",
    "skip_rows = 0\n",
    "skip_cust = 0\n",
    "test_preds = []\n",
    "\n",
    "for k in range(NUM_PARTS):\n",
    "    \n",
    "    # READ PART OF TEST DATA\n",
    "    print(f'\\nReading test data...')\n",
    "    test = read_file(path = TEST_PATH)\n",
    "    test = test.iloc[skip_rows:skip_rows+rows[k]]\n",
    "    skip_rows += rows[k]\n",
    "    print(f'=> Test part {k+1} has shape', test.shape )\n",
    "    \n",
    "    # PROCESS AND FEATURE ENGINEER PART OF TEST DATA\n",
    "    # test = process_and_feature_engineer(test)\n",
    "    test = process_and_feature_engineer_last_stmt(test)\n",
    "    if k==NUM_PARTS-1: test = test.loc[customers[skip_cust:]]\n",
    "    else: test = test.loc[customers[skip_cust:skip_cust+num_cust]]\n",
    "    skip_cust += num_cust\n",
    "    \n",
    "    # TEST DATA FOR XGB\n",
    "    X_test = test[FEATURES]\n",
    "    dtest = xgb.DMatrix(data=X_test)\n",
    "    # test = test[['P_2_mean']] # reduce memory\n",
    "    test = test[['P_2']] # reduce memory\n",
    "    del X_test\n",
    "    gc.collect()\n",
    "\n",
    "    # INFER XGB MODELS ON TEST DATA\n",
    "    model = xgb.Booster()\n",
    "    model.load_model(f'XGB_v{VER}_fold0.xgb')\n",
    "    preds = model.predict(dtest)\n",
    "    for f in range(1,FOLDS):\n",
    "        model.load_model(f'XGB_v{VER}_fold{f}.xgb')\n",
    "        preds += model.predict(dtest)\n",
    "    preds /= FOLDS\n",
    "    test_preds.append(preds)\n",
    "\n",
    "    # CLEAN MEMORY\n",
    "    del dtest, model\n",
    "    _ = gc.collect()"
   ]
  },
  {
   "cell_type": "markdown",
   "id": "82a9a992",
   "metadata": {
    "papermill": {
     "duration": 0.01361,
     "end_time": "2022-12-01T03:36:58.137897",
     "exception": false,
     "start_time": "2022-12-01T03:36:58.124287",
     "status": "completed"
    },
    "tags": []
   },
   "source": [
    "# Create Submission CSV"
   ]
  },
  {
   "cell_type": "code",
   "execution_count": 25,
   "id": "c82b30f5",
   "metadata": {
    "execution": {
     "iopub.execute_input": "2022-12-01T03:36:58.167067Z",
     "iopub.status.busy": "2022-12-01T03:36:58.166158Z",
     "iopub.status.idle": "2022-12-01T03:36:59.366345Z",
     "shell.execute_reply": "2022-12-01T03:36:59.364509Z"
    },
    "papermill": {
     "duration": 1.217301,
     "end_time": "2022-12-01T03:36:59.368891",
     "exception": false,
     "start_time": "2022-12-01T03:36:58.151590",
     "status": "completed"
    },
    "tags": []
   },
   "outputs": [
    {
     "name": "stdout",
     "output_type": "stream",
     "text": [
      "Submission file shape is (924621, 2)\n"
     ]
    }
   ],
   "source": [
    "# WRITE SUBMISSION FILE\n",
    "test_preds = np.concatenate(test_preds)\n",
    "test = cudf.DataFrame(index=customers,data={'prediction':test_preds})\n",
    "sub = cudf.read_csv('../input/amex-default-prediction/sample_submission.csv')[['customer_ID']]\n",
    "sub['customer_ID_hash'] = sub['customer_ID'].str[-16:].str.hex_to_int().astype('int64')\n",
    "sub = sub.set_index('customer_ID_hash')\n",
    "sub = sub.merge(test[['prediction']], left_index=True, right_index=True, how='left')\n",
    "sub = sub.reset_index(drop=True)\n",
    "\n",
    "# DISPLAY PREDICTIONS\n",
    "sub.to_csv(f'submission_xgb_v{VER}.csv',index=False)\n",
    "print('Submission file shape is', sub.shape )\n",
    "sub.head()\n",
    "del sub"
   ]
  },
  {
   "cell_type": "code",
   "execution_count": 26,
   "id": "7a8af125",
   "metadata": {
    "execution": {
     "iopub.execute_input": "2022-12-01T03:36:59.398775Z",
     "iopub.status.busy": "2022-12-01T03:36:59.398484Z",
     "iopub.status.idle": "2022-12-01T03:36:59.403571Z",
     "shell.execute_reply": "2022-12-01T03:36:59.402679Z"
    },
    "papermill": {
     "duration": 0.022292,
     "end_time": "2022-12-01T03:36:59.406098",
     "exception": false,
     "start_time": "2022-12-01T03:36:59.383806",
     "status": "completed"
    },
    "tags": []
   },
   "outputs": [
    {
     "data": {
      "text/plain": [
       "\"\\n# PLOT PREDICTIONS\\nplt.hist(sub.to_pandas().prediction, bins=100)\\nplt.title('Test Predictions')\\nplt.show()\\n\""
      ]
     },
     "execution_count": 26,
     "metadata": {},
     "output_type": "execute_result"
    }
   ],
   "source": [
    "'''\n",
    "# PLOT PREDICTIONS\n",
    "plt.hist(sub.to_pandas().prediction, bins=100)\n",
    "plt.title('Test Predictions')\n",
    "plt.show()\n",
    "'''"
   ]
  },
  {
   "cell_type": "code",
   "execution_count": 27,
   "id": "bf9f9571",
   "metadata": {
    "execution": {
     "iopub.execute_input": "2022-12-01T03:36:59.434647Z",
     "iopub.status.busy": "2022-12-01T03:36:59.434379Z",
     "iopub.status.idle": "2022-12-01T03:37:00.754816Z",
     "shell.execute_reply": "2022-12-01T03:37:00.753923Z"
    },
    "papermill": {
     "duration": 1.33667,
     "end_time": "2022-12-01T03:37:00.756675",
     "exception": false,
     "start_time": "2022-12-01T03:36:59.420005",
     "status": "completed"
    },
    "tags": []
   },
   "outputs": [
    {
     "data": {
      "text/html": [
       "        <script type=\"text/javascript\">\n",
       "        window.PlotlyConfig = {MathJaxConfig: 'local'};\n",
       "        if (window.MathJax && window.MathJax.Hub && window.MathJax.Hub.Config) {window.MathJax.Hub.Config({SVG: {font: \"STIX-Web\"}});}\n",
       "        if (typeof require !== 'undefined') {\n",
       "        require.undef(\"plotly\");\n",
       "        requirejs.config({\n",
       "            paths: {\n",
       "                'plotly': ['https://cdn.plot.ly/plotly-2.12.1.min']\n",
       "            }\n",
       "        });\n",
       "        require(['plotly'], function(Plotly) {\n",
       "            window._Plotly = Plotly;\n",
       "        });\n",
       "        }\n",
       "        </script>\n",
       "        "
      ]
     },
     "metadata": {},
     "output_type": "display_data"
    },
    {
     "data": {
      "text/html": [
       "<div>                            <div id=\"5d0c1763-5a58-4b40-8ab5-335340a005e5\" class=\"plotly-graph-div\" style=\"height:500px; width:700px;\"></div>            <script type=\"text/javascript\">                require([\"plotly\"], function(Plotly) {                    window.PLOTLYENV=window.PLOTLYENV || {};                                    if (document.getElementById(\"5d0c1763-5a58-4b40-8ab5-335340a005e5\")) {                    Plotly.newPlot(                        \"5d0c1763-5a58-4b40-8ab5-335340a005e5\",                        [{\"hole\":0.45,\"hovertemplate\":\"%{label} Accounts: %{value:.2f}%<extra></extra>\",\"labels\":[\"Paid\",\"Default\"],\"marker\":{\"colors\":[\"#8DBAE2\",\"#EDD3B3\"],\"line\":{\"color\":[\"#016CC9\",\"#DEB078\"],\"width\":2.5}},\"showlegend\":true,\"sort\":false,\"values\":[75.68538893233011,24.31461106766989],\"type\":\"pie\"}],                        {\"template\":{\"data\":{\"histogram2dcontour\":[{\"type\":\"histogram2dcontour\",\"colorbar\":{\"outlinewidth\":0,\"ticks\":\"\"},\"colorscale\":[[0.0,\"#0d0887\"],[0.1111111111111111,\"#46039f\"],[0.2222222222222222,\"#7201a8\"],[0.3333333333333333,\"#9c179e\"],[0.4444444444444444,\"#bd3786\"],[0.5555555555555556,\"#d8576b\"],[0.6666666666666666,\"#ed7953\"],[0.7777777777777778,\"#fb9f3a\"],[0.8888888888888888,\"#fdca26\"],[1.0,\"#f0f921\"]]}],\"choropleth\":[{\"type\":\"choropleth\",\"colorbar\":{\"outlinewidth\":0,\"ticks\":\"\"}}],\"histogram2d\":[{\"type\":\"histogram2d\",\"colorbar\":{\"outlinewidth\":0,\"ticks\":\"\"},\"colorscale\":[[0.0,\"#0d0887\"],[0.1111111111111111,\"#46039f\"],[0.2222222222222222,\"#7201a8\"],[0.3333333333333333,\"#9c179e\"],[0.4444444444444444,\"#bd3786\"],[0.5555555555555556,\"#d8576b\"],[0.6666666666666666,\"#ed7953\"],[0.7777777777777778,\"#fb9f3a\"],[0.8888888888888888,\"#fdca26\"],[1.0,\"#f0f921\"]]}],\"heatmap\":[{\"type\":\"heatmap\",\"colorbar\":{\"outlinewidth\":0,\"ticks\":\"\"},\"colorscale\":[[0.0,\"#0d0887\"],[0.1111111111111111,\"#46039f\"],[0.2222222222222222,\"#7201a8\"],[0.3333333333333333,\"#9c179e\"],[0.4444444444444444,\"#bd3786\"],[0.5555555555555556,\"#d8576b\"],[0.6666666666666666,\"#ed7953\"],[0.7777777777777778,\"#fb9f3a\"],[0.8888888888888888,\"#fdca26\"],[1.0,\"#f0f921\"]]}],\"heatmapgl\":[{\"type\":\"heatmapgl\",\"colorbar\":{\"outlinewidth\":0,\"ticks\":\"\"},\"colorscale\":[[0.0,\"#0d0887\"],[0.1111111111111111,\"#46039f\"],[0.2222222222222222,\"#7201a8\"],[0.3333333333333333,\"#9c179e\"],[0.4444444444444444,\"#bd3786\"],[0.5555555555555556,\"#d8576b\"],[0.6666666666666666,\"#ed7953\"],[0.7777777777777778,\"#fb9f3a\"],[0.8888888888888888,\"#fdca26\"],[1.0,\"#f0f921\"]]}],\"contourcarpet\":[{\"type\":\"contourcarpet\",\"colorbar\":{\"outlinewidth\":0,\"ticks\":\"\"}}],\"contour\":[{\"type\":\"contour\",\"colorbar\":{\"outlinewidth\":0,\"ticks\":\"\"},\"colorscale\":[[0.0,\"#0d0887\"],[0.1111111111111111,\"#46039f\"],[0.2222222222222222,\"#7201a8\"],[0.3333333333333333,\"#9c179e\"],[0.4444444444444444,\"#bd3786\"],[0.5555555555555556,\"#d8576b\"],[0.6666666666666666,\"#ed7953\"],[0.7777777777777778,\"#fb9f3a\"],[0.8888888888888888,\"#fdca26\"],[1.0,\"#f0f921\"]]}],\"surface\":[{\"type\":\"surface\",\"colorbar\":{\"outlinewidth\":0,\"ticks\":\"\"},\"colorscale\":[[0.0,\"#0d0887\"],[0.1111111111111111,\"#46039f\"],[0.2222222222222222,\"#7201a8\"],[0.3333333333333333,\"#9c179e\"],[0.4444444444444444,\"#bd3786\"],[0.5555555555555556,\"#d8576b\"],[0.6666666666666666,\"#ed7953\"],[0.7777777777777778,\"#fb9f3a\"],[0.8888888888888888,\"#fdca26\"],[1.0,\"#f0f921\"]]}],\"mesh3d\":[{\"type\":\"mesh3d\",\"colorbar\":{\"outlinewidth\":0,\"ticks\":\"\"}}],\"scatter\":[{\"fillpattern\":{\"fillmode\":\"overlay\",\"size\":10,\"solidity\":0.2},\"type\":\"scatter\"}],\"parcoords\":[{\"type\":\"parcoords\",\"line\":{\"colorbar\":{\"outlinewidth\":0,\"ticks\":\"\"}}}],\"scatterpolargl\":[{\"type\":\"scatterpolargl\",\"marker\":{\"colorbar\":{\"outlinewidth\":0,\"ticks\":\"\"}}}],\"bar\":[{\"error_x\":{\"color\":\"#2a3f5f\"},\"error_y\":{\"color\":\"#2a3f5f\"},\"marker\":{\"line\":{\"color\":\"#E5ECF6\",\"width\":0.5},\"pattern\":{\"fillmode\":\"overlay\",\"size\":10,\"solidity\":0.2}},\"type\":\"bar\"}],\"scattergeo\":[{\"type\":\"scattergeo\",\"marker\":{\"colorbar\":{\"outlinewidth\":0,\"ticks\":\"\"}}}],\"scatterpolar\":[{\"type\":\"scatterpolar\",\"marker\":{\"colorbar\":{\"outlinewidth\":0,\"ticks\":\"\"}}}],\"histogram\":[{\"marker\":{\"pattern\":{\"fillmode\":\"overlay\",\"size\":10,\"solidity\":0.2}},\"type\":\"histogram\"}],\"scattergl\":[{\"type\":\"scattergl\",\"marker\":{\"colorbar\":{\"outlinewidth\":0,\"ticks\":\"\"}}}],\"scatter3d\":[{\"type\":\"scatter3d\",\"line\":{\"colorbar\":{\"outlinewidth\":0,\"ticks\":\"\"}},\"marker\":{\"colorbar\":{\"outlinewidth\":0,\"ticks\":\"\"}}}],\"scattermapbox\":[{\"type\":\"scattermapbox\",\"marker\":{\"colorbar\":{\"outlinewidth\":0,\"ticks\":\"\"}}}],\"scatterternary\":[{\"type\":\"scatterternary\",\"marker\":{\"colorbar\":{\"outlinewidth\":0,\"ticks\":\"\"}}}],\"scattercarpet\":[{\"type\":\"scattercarpet\",\"marker\":{\"colorbar\":{\"outlinewidth\":0,\"ticks\":\"\"}}}],\"carpet\":[{\"aaxis\":{\"endlinecolor\":\"#2a3f5f\",\"gridcolor\":\"white\",\"linecolor\":\"white\",\"minorgridcolor\":\"white\",\"startlinecolor\":\"#2a3f5f\"},\"baxis\":{\"endlinecolor\":\"#2a3f5f\",\"gridcolor\":\"white\",\"linecolor\":\"white\",\"minorgridcolor\":\"white\",\"startlinecolor\":\"#2a3f5f\"},\"type\":\"carpet\"}],\"table\":[{\"cells\":{\"fill\":{\"color\":\"#EBF0F8\"},\"line\":{\"color\":\"white\"}},\"header\":{\"fill\":{\"color\":\"#C8D4E3\"},\"line\":{\"color\":\"white\"}},\"type\":\"table\"}],\"barpolar\":[{\"marker\":{\"line\":{\"color\":\"#E5ECF6\",\"width\":0.5},\"pattern\":{\"fillmode\":\"overlay\",\"size\":10,\"solidity\":0.2}},\"type\":\"barpolar\"}],\"pie\":[{\"automargin\":true,\"type\":\"pie\"}]},\"layout\":{\"font\":{\"family\":\"Franklin Gothic\",\"size\":12},\"height\":500,\"width\":1000}},\"legend\":{\"traceorder\":\"reversed\",\"y\":1.05,\"x\":0},\"uniformtext\":{\"minsize\":15,\"mode\":\"hide\"},\"title\":{\"text\":\"Predicted Target Distribution\"},\"width\":700},                        {\"responsive\": true}                    ).then(function(){\n",
       "                            \n",
       "var gd = document.getElementById('5d0c1763-5a58-4b40-8ab5-335340a005e5');\n",
       "var x = new MutationObserver(function (mutations, observer) {{\n",
       "        var display = window.getComputedStyle(gd).display;\n",
       "        if (!display || display === 'none') {{\n",
       "            console.log([gd, 'removed!']);\n",
       "            Plotly.purge(gd);\n",
       "            observer.disconnect();\n",
       "        }}\n",
       "}});\n",
       "\n",
       "// Listen for the removal of the full notebook cells\n",
       "var notebookContainer = gd.closest('#notebook-container');\n",
       "if (notebookContainer) {{\n",
       "    x.observe(notebookContainer, {childList: true});\n",
       "}}\n",
       "\n",
       "// Listen for the clearing of the current output cell\n",
       "var outputEl = gd.closest('.output');\n",
       "if (outputEl) {{\n",
       "    x.observe(outputEl, {childList: true});\n",
       "}}\n",
       "\n",
       "                        })                };                });            </script>        </div>"
      ]
     },
     "metadata": {},
     "output_type": "display_data"
    }
   ],
   "source": [
    "import plotly.graph_objects as go\n",
    "temp=dict(layout=go.Layout(font=dict(family=\"Franklin Gothic\", size=12), \n",
    "                           height=500, width=1000))\n",
    "sub = pd.read_csv(\"/kaggle/working/submission_xgb_v1.csv\")\n",
    "# sub['prediction']=np.mean(gbm_test_preds, axis=0)\n",
    "\n",
    "df=pd.DataFrame(data={'Target':sub['prediction'].apply(lambda x: 1 if x>0.5 else 0)})\n",
    "df=df.Target.value_counts(normalize=True)\n",
    "df.rename(index={1:'Default',0:'Paid'},inplace=True)\n",
    "pal, color=['#016CC9','#DEB078'], ['#8DBAE2','#EDD3B3']\n",
    "fig=go.Figure()\n",
    "fig.add_trace(go.Pie(labels=df.index, values=df*100, hole=.45, \n",
    "                     showlegend=True,sort=False, \n",
    "                     marker=dict(colors=color,line=dict(color=pal,width=2.5)),\n",
    "                     hovertemplate = \"%{label} Accounts: %{value:.2f}%<extra></extra>\"))\n",
    "fig.update_layout(template=temp, title='Predicted Target Distribution', \n",
    "                  legend=dict(traceorder='reversed',y=1.05,x=0),\n",
    "                  uniformtext_minsize=15, uniformtext_mode='hide',width=700)\n",
    "fig.show()"
   ]
  },
  {
   "cell_type": "markdown",
   "id": "1212a69b",
   "metadata": {
    "papermill": {
     "duration": 0.013769,
     "end_time": "2022-12-01T03:37:00.784882",
     "exception": false,
     "start_time": "2022-12-01T03:37:00.771113",
     "status": "completed"
    },
    "tags": []
   },
   "source": [
    "## SHAP"
   ]
  },
  {
   "cell_type": "code",
   "execution_count": 28,
   "id": "0cc89332",
   "metadata": {
    "execution": {
     "iopub.execute_input": "2022-12-01T03:37:00.814006Z",
     "iopub.status.busy": "2022-12-01T03:37:00.813709Z",
     "iopub.status.idle": "2022-12-01T03:37:00.817342Z",
     "shell.execute_reply": "2022-12-01T03:37:00.816475Z"
    },
    "papermill": {
     "duration": 0.02019,
     "end_time": "2022-12-01T03:37:00.819135",
     "exception": false,
     "start_time": "2022-12-01T03:37:00.798945",
     "status": "completed"
    },
    "tags": []
   },
   "outputs": [],
   "source": [
    "#import shap"
   ]
  },
  {
   "cell_type": "code",
   "execution_count": 29,
   "id": "9b3b61be",
   "metadata": {
    "execution": {
     "iopub.execute_input": "2022-12-01T03:37:00.847868Z",
     "iopub.status.busy": "2022-12-01T03:37:00.847608Z",
     "iopub.status.idle": "2022-12-01T03:37:00.850956Z",
     "shell.execute_reply": "2022-12-01T03:37:00.850134Z"
    },
    "papermill": {
     "duration": 0.019757,
     "end_time": "2022-12-01T03:37:00.852830",
     "exception": false,
     "start_time": "2022-12-01T03:37:00.833073",
     "status": "completed"
    },
    "tags": []
   },
   "outputs": [],
   "source": [
    "# print the JS visualization code to the notebook\n",
    "#shap.initjs()"
   ]
  },
  {
   "cell_type": "code",
   "execution_count": 30,
   "id": "56fa5622",
   "metadata": {
    "execution": {
     "iopub.execute_input": "2022-12-01T03:37:00.881422Z",
     "iopub.status.busy": "2022-12-01T03:37:00.881165Z",
     "iopub.status.idle": "2022-12-01T03:37:00.885324Z",
     "shell.execute_reply": "2022-12-01T03:37:00.884642Z"
    },
    "papermill": {
     "duration": 0.020597,
     "end_time": "2022-12-01T03:37:00.887256",
     "exception": false,
     "start_time": "2022-12-01T03:37:00.866659",
     "status": "completed"
    },
    "tags": []
   },
   "outputs": [],
   "source": [
    "# train = train.to_pandas() # free GPU memory"
   ]
  },
  {
   "cell_type": "code",
   "execution_count": 31,
   "id": "d4b48348",
   "metadata": {
    "execution": {
     "iopub.execute_input": "2022-12-01T03:37:00.915854Z",
     "iopub.status.busy": "2022-12-01T03:37:00.915595Z",
     "iopub.status.idle": "2022-12-01T03:37:00.921264Z",
     "shell.execute_reply": "2022-12-01T03:37:00.920560Z"
    },
    "papermill": {
     "duration": 0.021789,
     "end_time": "2022-12-01T03:37:00.922899",
     "exception": false,
     "start_time": "2022-12-01T03:37:00.901110",
     "status": "completed"
    },
    "tags": []
   },
   "outputs": [
    {
     "data": {
      "text/plain": [
       "\"\\nskf = KFold(n_splits=FOLDS, shuffle=True, random_state=SEED)\\ntrain_idx, valid_idx = skf.split(train, train.target)\\n\\ntrain_idx0 = train_idx[0]\\nvalid_idx0 = valid_idx[0]\\n\\n# TRAIN, VALID, TEST FOR FOLD K\\nXy_train = IterLoadForDMatrix(train.loc[train_idx0], FEATURES, 'target')\\nX_valid = train.loc[valid_idx0, FEATURES]\\ny_valid = train.loc[valid_idx0, 'target']\\n    \\ndtrain = xgb.DeviceQuantileDMatrix(Xy_train, max_bin=256)\\ndvalid = xgb.DMatrix(data=X_valid, label=y_valid)\\ndel Xy_train, X_valid, y_valid\\n# TRAIN MODEL FOLD K\\nmodel = xgb.train(xgb_parms, \\n                dtrain=dtrain,\\n                evals=[(dtrain,'train'),(dvalid,'valid')],\\n                num_boost_round=9999,\\n                early_stopping_rounds=100,\\n                verbose_eval=100)\\ndel dtrain\\n\\nexplainer = shap.TreeExplainer(model=model, data=None, model_output='raw', feature_perturbation='tree_path_dependent') # xgb\\n\\nshap_values = explainer.shap_values(dvalid)\\ndel dvalid\\n\\n# SHAP values for XGBoost\\nshap.summary_plot(shap_values, features=FEATURES)\\n# visualize SHAP values for single observation or for a specific range\\nx_start = 0\\nx_stop = 1\\nshap.summary_plot(shap_values[x_start:x_stop,:], features=FEATURES)\\ndel shap_values\\n\""
      ]
     },
     "execution_count": 31,
     "metadata": {},
     "output_type": "execute_result"
    }
   ],
   "source": [
    "'''\n",
    "skf = KFold(n_splits=FOLDS, shuffle=True, random_state=SEED)\n",
    "train_idx, valid_idx = skf.split(train, train.target)\n",
    "\n",
    "train_idx0 = train_idx[0]\n",
    "valid_idx0 = valid_idx[0]\n",
    "\n",
    "# TRAIN, VALID, TEST FOR FOLD K\n",
    "Xy_train = IterLoadForDMatrix(train.loc[train_idx0], FEATURES, 'target')\n",
    "X_valid = train.loc[valid_idx0, FEATURES]\n",
    "y_valid = train.loc[valid_idx0, 'target']\n",
    "    \n",
    "dtrain = xgb.DeviceQuantileDMatrix(Xy_train, max_bin=256)\n",
    "dvalid = xgb.DMatrix(data=X_valid, label=y_valid)\n",
    "del Xy_train, X_valid, y_valid\n",
    "# TRAIN MODEL FOLD K\n",
    "model = xgb.train(xgb_parms, \n",
    "                dtrain=dtrain,\n",
    "                evals=[(dtrain,'train'),(dvalid,'valid')],\n",
    "                num_boost_round=9999,\n",
    "                early_stopping_rounds=100,\n",
    "                verbose_eval=100)\n",
    "del dtrain\n",
    "\n",
    "explainer = shap.TreeExplainer(model=model, data=None, model_output='raw', feature_perturbation='tree_path_dependent') # xgb\n",
    "\n",
    "shap_values = explainer.shap_values(dvalid)\n",
    "del dvalid\n",
    "\n",
    "# SHAP values for XGBoost\n",
    "shap.summary_plot(shap_values, features=FEATURES)\n",
    "# visualize SHAP values for single observation or for a specific range\n",
    "x_start = 0\n",
    "x_stop = 1\n",
    "shap.summary_plot(shap_values[x_start:x_stop,:], features=FEATURES)\n",
    "del shap_values\n",
    "'''"
   ]
  },
  {
   "cell_type": "code",
   "execution_count": 32,
   "id": "da323b02",
   "metadata": {
    "execution": {
     "iopub.execute_input": "2022-12-01T03:37:00.952121Z",
     "iopub.status.busy": "2022-12-01T03:37:00.951555Z",
     "iopub.status.idle": "2022-12-01T03:37:00.954996Z",
     "shell.execute_reply": "2022-12-01T03:37:00.954177Z"
    },
    "papermill": {
     "duration": 0.020038,
     "end_time": "2022-12-01T03:37:00.956837",
     "exception": false,
     "start_time": "2022-12-01T03:37:00.936799",
     "status": "completed"
    },
    "tags": []
   },
   "outputs": [],
   "source": [
    "#explainer.expected_value"
   ]
  },
  {
   "cell_type": "markdown",
   "id": "a70e17a2",
   "metadata": {
    "papermill": {
     "duration": 0.013988,
     "end_time": "2022-12-01T03:37:00.984738",
     "exception": false,
     "start_time": "2022-12-01T03:37:00.970750",
     "status": "completed"
    },
    "tags": []
   },
   "source": [
    "# LightGBM"
   ]
  },
  {
   "cell_type": "code",
   "execution_count": 33,
   "id": "9f3c5a7d",
   "metadata": {
    "execution": {
     "iopub.execute_input": "2022-12-01T03:37:01.014043Z",
     "iopub.status.busy": "2022-12-01T03:37:01.013729Z",
     "iopub.status.idle": "2022-12-01T03:37:01.019572Z",
     "shell.execute_reply": "2022-12-01T03:37:01.018872Z"
    },
    "papermill": {
     "duration": 0.022599,
     "end_time": "2022-12-01T03:37:01.021453",
     "exception": false,
     "start_time": "2022-12-01T03:37:00.998854",
     "status": "completed"
    },
    "tags": []
   },
   "outputs": [
    {
     "data": {
      "text/plain": [
       "\"\\nimport lightgbm\\n# specify your configurations as a dict\\ngbm_params = {\\n    'boosting_type': 'gbdt',\\n    'objective': 'binary',\\n    'metric': 'auc',\\n    'num_leaves': 31,\\n    'learning_rate': 0.05,\\n    'feature_fraction': 0.9,\\n    'bagging_fraction': 0.8,\\n    'bagging_freq': 5,\\n    'verbose': 0,\\n    'max_cat_to_onehot': 4,\\n    'lambda_l1': 1,\\n    'lambda_l2': 1,\\n    'seed': 100\\n}\\n\\nX_train = train.loc[train_idx0, FEATURES]\\ny_train = train.loc[train_idx0, 'target']\\nX_valid = train.loc[valid_idx0, FEATURES]\\ny_valid = train.loc[valid_idx0, 'target']\\n\\ndtrain = lightgbm.Dataset(data=X_train, label=y_train, categorical_feature='auto')\\n#dtest = lightgbm.Dataset(data=X_test, label=y_test, categorical_feature='auto')\\ndvalid = lightgbm.Dataset(data=X_valid, label=y_valid, categorical_feature='auto')\\ndel X_valid, y_valid\\ndel X_train, y_train\\n\\nmodel_gbm = lightgbm.train(gbm_params,\\n                dtrain,\\n                num_boost_round=100,\\n                verbose_eval=100,\\n                valid_sets=[dvalid, dtrain],  # eval training data\\n                )\\ndel dtrain, dvalid\\n\\nexplainer = shap.TreeExplainer(model=model_gbm, data=None, model_output='raw', feature_perturbation='tree_path_dependent')\\n\\nX_valid = train.loc[valid_idx0, FEATURES]\\nshap_values = explainer.shap_values(X_valid)\\ndel X_valid\\n\\n# SHAP values for LightGBM\\nshap.summary_plot(shap_values, features=FEATURES)\\n# visualize SHAP values for single observation or for a specific range\\nx_start = 0\\nx_stop = 1\\nshap.summary_plot(shap_values[1][x_start:x_stop,:], features=FEATURES)\\ndel shap_values\\n\""
      ]
     },
     "execution_count": 33,
     "metadata": {},
     "output_type": "execute_result"
    }
   ],
   "source": [
    "'''\n",
    "import lightgbm\n",
    "# specify your configurations as a dict\n",
    "gbm_params = {\n",
    "    'boosting_type': 'gbdt',\n",
    "    'objective': 'binary',\n",
    "    'metric': 'auc',\n",
    "    'num_leaves': 31,\n",
    "    'learning_rate': 0.05,\n",
    "    'feature_fraction': 0.9,\n",
    "    'bagging_fraction': 0.8,\n",
    "    'bagging_freq': 5,\n",
    "    'verbose': 0,\n",
    "    'max_cat_to_onehot': 4,\n",
    "    'lambda_l1': 1,\n",
    "    'lambda_l2': 1,\n",
    "    'seed': 100\n",
    "}\n",
    "\n",
    "X_train = train.loc[train_idx0, FEATURES]\n",
    "y_train = train.loc[train_idx0, 'target']\n",
    "X_valid = train.loc[valid_idx0, FEATURES]\n",
    "y_valid = train.loc[valid_idx0, 'target']\n",
    "\n",
    "dtrain = lightgbm.Dataset(data=X_train, label=y_train, categorical_feature='auto')\n",
    "#dtest = lightgbm.Dataset(data=X_test, label=y_test, categorical_feature='auto')\n",
    "dvalid = lightgbm.Dataset(data=X_valid, label=y_valid, categorical_feature='auto')\n",
    "del X_valid, y_valid\n",
    "del X_train, y_train\n",
    "\n",
    "model_gbm = lightgbm.train(gbm_params,\n",
    "                dtrain,\n",
    "                num_boost_round=100,\n",
    "                verbose_eval=100,\n",
    "                valid_sets=[dvalid, dtrain],  # eval training data\n",
    "                )\n",
    "del dtrain, dvalid\n",
    "\n",
    "explainer = shap.TreeExplainer(model=model_gbm, data=None, model_output='raw', feature_perturbation='tree_path_dependent')\n",
    "\n",
    "X_valid = train.loc[valid_idx0, FEATURES]\n",
    "shap_values = explainer.shap_values(X_valid)\n",
    "del X_valid\n",
    "\n",
    "# SHAP values for LightGBM\n",
    "shap.summary_plot(shap_values, features=FEATURES)\n",
    "# visualize SHAP values for single observation or for a specific range\n",
    "x_start = 0\n",
    "x_stop = 1\n",
    "shap.summary_plot(shap_values[1][x_start:x_stop,:], features=FEATURES)\n",
    "del shap_values\n",
    "'''"
   ]
  }
 ],
 "metadata": {
  "kernelspec": {
   "display_name": "Python 3",
   "language": "python",
   "name": "python3"
  },
  "language_info": {
   "codemirror_mode": {
    "name": "ipython",
    "version": 3
   },
   "file_extension": ".py",
   "mimetype": "text/x-python",
   "name": "python",
   "nbconvert_exporter": "python",
   "pygments_lexer": "ipython3",
   "version": "3.7.12"
  },
  "papermill": {
   "default_parameters": {},
   "duration": 255.133407,
   "end_time": "2022-12-01T03:37:02.257017",
   "environment_variables": {},
   "exception": null,
   "input_path": "__notebook__.ipynb",
   "output_path": "__notebook__.ipynb",
   "parameters": {},
   "start_time": "2022-12-01T03:32:47.123610",
   "version": "2.3.4"
  }
 },
 "nbformat": 4,
 "nbformat_minor": 5
}
